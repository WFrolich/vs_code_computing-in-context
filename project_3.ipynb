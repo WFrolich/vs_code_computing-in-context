{
 "cells": [
  {
   "cell_type": "markdown",
   "metadata": {},
   "source": [
    "# Project 3: Mapping NYC Affordable Housing\n",
    "### Using the NYC Open Data API to investigate and map the location of various types of affordable housing developments as recorded by the city's Department of Housing Preservation and Development (HPD).\n",
    "Will Frolich<br/>\n",
    "SIPA Fall 2024<br/>\n",
    "INAF U6006 Computing in Context"
   ]
  },
  {
   "cell_type": "markdown",
   "metadata": {},
   "source": [
    "For this third and final project I knew I wanted to work with an aspect of the city's housing data. Given the attention the city's affordability, or lack thereof, has garnered from the press as well as my own lived experience of trying to find housing, I was curious to explore any of the available data on the subject. Initially, I looked at the publically available data from Streeteasy, which is fairly robust but is organized by their definition of neighborhoods and would have been difficult to connect to the city's community districts.\n",
    "\n",
    "With further exploration I was able to find a dataset on the NYC OpenData site from NYC HPD that tracks the developments that qualify for one of two affordable housing plans the city has initiated and measures the number of units that qualify for certain income bands from 'Extremely Low Income' to 'Middle Income' as well as the type of unit from 'Studios' to multi-bedroom units. "
   ]
  },
  {
   "cell_type": "markdown",
   "metadata": {},
   "source": []
  }
 ],
 "metadata": {
  "kernelspec": {
   "display_name": "base",
   "language": "python",
   "name": "python3"
  },
  "language_info": {
   "codemirror_mode": {
    "name": "ipython",
    "version": 3
   },
   "file_extension": ".py",
   "mimetype": "text/x-python",
   "name": "python",
   "nbconvert_exporter": "python",
   "pygments_lexer": "ipython3",
   "version": "3.12.2"
  }
 },
 "nbformat": 4,
 "nbformat_minor": 2
}
