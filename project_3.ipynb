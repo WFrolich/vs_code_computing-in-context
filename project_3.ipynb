{
 "cells": [
  {
   "cell_type": "markdown",
   "metadata": {},
   "source": [
    "# Project 3: Mapping NYC Affordable Housing\n",
    "### Using the NYC Open Data API to investigate and map the location of various types of affordable housing developments as recorded by the city's Department of Housing Preservation and Development (HPD).\n",
    "Will Frolich<br/>\n",
    "SIPA Fall 2024<br/>\n",
    "INAF U6006 Computing in Context"
   ]
  },
  {
   "cell_type": "markdown",
   "metadata": {},
   "source": [
    "For this third and final project I knew I wanted to work with an aspect of the city's housing data. Given the attention the city's affordability, or lack thereof, has garnered from the press as well as my own lived experience of trying to find housing, I was curious to explore any of the available data on the subject. Initially, I looked at the publically available data from Streeteasy, which is fairly robust but is organized by their definition of neighborhoods and would have been difficult to connect to the city's community districts.\n",
    "\n",
    "With further exploration I was able to find a dataset on the NYC OpenData site from NYC HPD that tracks the developments that qualify for one of two affordable housing plans the city has initiated and measures the number of units that qualify for certain income bands from 'Extremely Low Income' to 'Middle Income' as well as the type of unit from 'Studios' to multi-bedroom units. "
   ]
  },
  {
   "cell_type": "markdown",
   "metadata": {},
   "source": [
    "- **Dataset(s) to be used:** [NYC Housing Development and Preservation Affordability Production Dataset](https://data.cityofnewyork.us/Housing-Development/Affordable-Housing-Production-by-Building/hg8x-zxpr/about_data)\n",
    "- **Analysis question:** Where is the city building affordable housing? What community districts are seeing the biggest changes in affordable housing production since 2020? Are those community districts that are most in need, i.e., have the lowest median income, getting the necessary share of affordable housing units?\n",
    "- **Columns that will (likely) be used:**\n",
    "  - [Column 1]\n",
    "  - [Column 2]\n",
    "  - [etc]\n",
    "- (If you're using multiple datasets) **Columns to be used to merge/join them:**\n",
    "  - [Dataset 1] [column]\n",
    "  - [Dataset 2] [column]\n",
    "- **Hypothesis**: It is clear that the city has an affordability issue and is working to remedy the situation through measures like the City of Yes initiative. However, I hypothesize that the city likely isn't building affordable housing in the areas that are most in need.\n",
    "- **Site URL:** [URL from Publish section]"
   ]
  },
  {
   "cell_type": "markdown",
   "metadata": {},
   "source": []
  },
  {
   "cell_type": "code",
   "execution_count": 2,
   "metadata": {},
   "outputs": [],
   "source": [
    "import plotly.io as pio\n",
    "\n",
    "pio.renderers.default = \"vscode+jupyterlab+notebook_connected\""
   ]
  }
 ],
 "metadata": {
  "kernelspec": {
   "display_name": "base",
   "language": "python",
   "name": "python3"
  },
  "language_info": {
   "codemirror_mode": {
    "name": "ipython",
    "version": 3
   },
   "file_extension": ".py",
   "mimetype": "text/x-python",
   "name": "python",
   "nbconvert_exporter": "python",
   "pygments_lexer": "ipython3",
   "version": "3.12.2"
  }
 },
 "nbformat": 4,
 "nbformat_minor": 2
}
